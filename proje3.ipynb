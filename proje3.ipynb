{
  "nbformat": 4,
  "nbformat_minor": 0,
  "metadata": {
    "colab": {
      "provenance": [],
      "authorship_tag": "ABX9TyMxYEWHnlRFKX/MboZ4ZbdF",
      "include_colab_link": true
    },
    "kernelspec": {
      "name": "python3",
      "display_name": "Python 3"
    },
    "language_info": {
      "name": "python"
    }
  },
  "cells": [
    {
      "cell_type": "markdown",
      "metadata": {
        "id": "view-in-github",
        "colab_type": "text"
      },
      "source": [
        "<a href=\"https://colab.research.google.com/github/aysenurerdem06/proje3/blob/main/proje3.ipynb\" target=\"_parent\"><img src=\"https://colab.research.google.com/assets/colab-badge.svg\" alt=\"Open In Colab\"/></a>"
      ]
    },
    {
      "cell_type": "code",
      "execution_count": null,
      "metadata": {
        "id": "vWPkqeD8MtS-"
      },
      "outputs": [],
      "source": [
        "!pip install langdetect"
      ]
    },
    {
      "cell_type": "code",
      "source": [
        "from langdetect import detect, DetectorFactory\n",
        "\n",
        "DetectorFactory.seed = 0\n",
        "\n",
        "metin = input(\"Bir metin girin: \")\n",
        "\n",
        "try:\n",
        "    dil = detect(metin)\n",
        "\n",
        "    dil_sozluk = {\n",
        "        'tr': 'Türkçe',\n",
        "        'en': 'İngilizce',\n",
        "        'de': 'Almanca',\n",
        "        'fr': 'Fransızca',\n",
        "        'es': 'İspanyolca'\n",
        "    }\n",
        "\n",
        "    if dil in dil_sozluk:\n",
        "        print(f\"Girilen metin '{dil_sozluk[dil]}' dilinde yazılmıştır.\")\n",
        "    else:\n",
        "        print(\"Girilen metin belirtilen dillerden biri ile yazılmamıştır.\")\n",
        "except Exception as e:\n",
        "    print(\"Bir hata oluştu:\", str(e))"
      ],
      "metadata": {
        "id": "2VLpHVDwM1db"
      },
      "execution_count": null,
      "outputs": []
    }
  ]
}